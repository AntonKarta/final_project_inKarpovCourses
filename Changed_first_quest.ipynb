{
 "cells": [
  {
   "cell_type": "markdown",
   "id": "685caedb",
   "metadata": {},
   "source": [
    "<h1> Карташов Антон Валерьевич \n",
    "    <h2> Вариант 2\n",
    "        <h3> Исправление. Задание №1"
   ]
  },
  {
   "cell_type": "code",
   "execution_count": 143,
   "id": "4080478e",
   "metadata": {},
   "outputs": [],
   "source": [
    "# импорт библиотек\n",
    "\n",
    "import pandas as pd # мир пандам\n",
    "import numpy as np\n",
    "\n",
    "import scipy.stats as st # Статистика \n",
    "\n",
    "import matplotlib.pyplot as plt #Графики - сила\n",
    "import seaborn as sb\n",
    "import plotly.express as px\n",
    "import plotly.graph_objects as go\n",
    "import Boot_v2\n",
    "\n",
    "%matplotlib inline"
   ]
  },
  {
   "cell_type": "code",
   "execution_count": 3,
   "id": "951b2acc",
   "metadata": {},
   "outputs": [],
   "source": [
    "groups       = pd.read_csv('https://getfile.dokpub.com/yandex/get/https://disk.yandex.ru/d/58Us0DWOzuWAjg', sep = ';')\n",
    "active_studs = pd.read_csv('https://getfile.dokpub.com/yandex/get/https://disk.yandex.ru/d/prbgU-rZpiXVYg', sep = ';')\n",
    "checks       = pd.read_csv('https://getfile.dokpub.com/yandex/get/https://disk.yandex.ru/d/84hTmELphW2sqQ', sep = ';')"
   ]
  },
  {
   "cell_type": "markdown",
   "id": "f37e833c",
   "metadata": {},
   "source": [
    "<h2> Что имеем </h2> <br>\n",
    "<b>groups.csv</b> - файл с информацией о принадлежности пользователя к контрольной или экспериментальной группе (А – контроль, B – целевая группа) <br><br>\n",
    "<b>active_studs.csv</b> - файл с информацией о пользователях, которые зашли на платформу в дни проведения эксперимента. <br><br>\n",
    "<b>checks.csv</b> - файл с информацией об оплатах пользователей в дни проведения эксперимента. <br><br>"
   ]
  },
  {
   "cell_type": "code",
   "execution_count": 4,
   "id": "8d6d2850",
   "metadata": {},
   "outputs": [
    {
     "name": "stdout",
     "output_type": "stream",
     "text": [
      "<class 'pandas.core.frame.DataFrame'>\n",
      "RangeIndex: 74484 entries, 0 to 74483\n",
      "Data columns (total 2 columns):\n",
      " #   Column  Non-Null Count  Dtype \n",
      "---  ------  --------------  ----- \n",
      " 0   id      74484 non-null  int64 \n",
      " 1   grp     74484 non-null  object\n",
      "dtypes: int64(1), object(1)\n",
      "memory usage: 1.1+ MB\n"
     ]
    }
   ],
   "source": [
    "groups.info()"
   ]
  },
  {
   "cell_type": "code",
   "execution_count": 5,
   "id": "e7bd4953",
   "metadata": {},
   "outputs": [
    {
     "data": {
      "text/html": [
       "<div>\n",
       "<style scoped>\n",
       "    .dataframe tbody tr th:only-of-type {\n",
       "        vertical-align: middle;\n",
       "    }\n",
       "\n",
       "    .dataframe tbody tr th {\n",
       "        vertical-align: top;\n",
       "    }\n",
       "\n",
       "    .dataframe thead th {\n",
       "        text-align: right;\n",
       "    }\n",
       "</style>\n",
       "<table border=\"1\" class=\"dataframe\">\n",
       "  <thead>\n",
       "    <tr style=\"text-align: right;\">\n",
       "      <th></th>\n",
       "      <th>id</th>\n",
       "      <th>grp</th>\n",
       "    </tr>\n",
       "  </thead>\n",
       "  <tbody>\n",
       "    <tr>\n",
       "      <th>0</th>\n",
       "      <td>1489</td>\n",
       "      <td>B</td>\n",
       "    </tr>\n",
       "    <tr>\n",
       "      <th>1</th>\n",
       "      <td>1627</td>\n",
       "      <td>A</td>\n",
       "    </tr>\n",
       "    <tr>\n",
       "      <th>2</th>\n",
       "      <td>1768</td>\n",
       "      <td>B</td>\n",
       "    </tr>\n",
       "    <tr>\n",
       "      <th>3</th>\n",
       "      <td>1783</td>\n",
       "      <td>B</td>\n",
       "    </tr>\n",
       "    <tr>\n",
       "      <th>4</th>\n",
       "      <td>1794</td>\n",
       "      <td>A</td>\n",
       "    </tr>\n",
       "  </tbody>\n",
       "</table>\n",
       "</div>"
      ],
      "text/plain": [
       "     id grp\n",
       "0  1489   B\n",
       "1  1627   A\n",
       "2  1768   B\n",
       "3  1783   B\n",
       "4  1794   A"
      ]
     },
     "execution_count": 5,
     "metadata": {},
     "output_type": "execute_result"
    }
   ],
   "source": [
    "groups.head()"
   ]
  },
  {
   "cell_type": "code",
   "execution_count": 8,
   "id": "7b40e4c8",
   "metadata": {},
   "outputs": [
    {
     "name": "stdout",
     "output_type": "stream",
     "text": [
      "<class 'pandas.core.frame.DataFrame'>\n",
      "RangeIndex: 541 entries, 0 to 540\n",
      "Data columns (total 2 columns):\n",
      " #   Column  Non-Null Count  Dtype  \n",
      "---  ------  --------------  -----  \n",
      " 0   id      541 non-null    int64  \n",
      " 1   rev     541 non-null    float64\n",
      "dtypes: float64(1), int64(1)\n",
      "memory usage: 8.6 KB\n"
     ]
    }
   ],
   "source": [
    "checks = checks.rename(columns={'student_id':'id'})\n",
    "checks.info()"
   ]
  },
  {
   "cell_type": "code",
   "execution_count": 6,
   "id": "d0d8e6cb",
   "metadata": {},
   "outputs": [
    {
     "data": {
      "text/html": [
       "<div>\n",
       "<style scoped>\n",
       "    .dataframe tbody tr th:only-of-type {\n",
       "        vertical-align: middle;\n",
       "    }\n",
       "\n",
       "    .dataframe tbody tr th {\n",
       "        vertical-align: top;\n",
       "    }\n",
       "\n",
       "    .dataframe thead th {\n",
       "        text-align: right;\n",
       "    }\n",
       "</style>\n",
       "<table border=\"1\" class=\"dataframe\">\n",
       "  <thead>\n",
       "    <tr style=\"text-align: right;\">\n",
       "      <th></th>\n",
       "      <th>student_id</th>\n",
       "      <th>rev</th>\n",
       "    </tr>\n",
       "  </thead>\n",
       "  <tbody>\n",
       "    <tr>\n",
       "      <th>0</th>\n",
       "      <td>1627</td>\n",
       "      <td>990.0</td>\n",
       "    </tr>\n",
       "    <tr>\n",
       "      <th>1</th>\n",
       "      <td>3185</td>\n",
       "      <td>690.0</td>\n",
       "    </tr>\n",
       "    <tr>\n",
       "      <th>2</th>\n",
       "      <td>25973</td>\n",
       "      <td>690.0</td>\n",
       "    </tr>\n",
       "    <tr>\n",
       "      <th>3</th>\n",
       "      <td>26280</td>\n",
       "      <td>690.0</td>\n",
       "    </tr>\n",
       "    <tr>\n",
       "      <th>4</th>\n",
       "      <td>100300</td>\n",
       "      <td>990.0</td>\n",
       "    </tr>\n",
       "  </tbody>\n",
       "</table>\n",
       "</div>"
      ],
      "text/plain": [
       "   student_id    rev\n",
       "0        1627  990.0\n",
       "1        3185  690.0\n",
       "2       25973  690.0\n",
       "3       26280  690.0\n",
       "4      100300  990.0"
      ]
     },
     "execution_count": 6,
     "metadata": {},
     "output_type": "execute_result"
    }
   ],
   "source": [
    "checks.head()"
   ]
  },
  {
   "cell_type": "code",
   "execution_count": 7,
   "id": "f3ca786a",
   "metadata": {},
   "outputs": [
    {
     "name": "stdout",
     "output_type": "stream",
     "text": [
      "<class 'pandas.core.frame.DataFrame'>\n",
      "RangeIndex: 8341 entries, 0 to 8340\n",
      "Data columns (total 1 columns):\n",
      " #   Column  Non-Null Count  Dtype\n",
      "---  ------  --------------  -----\n",
      " 0   id      8341 non-null   int64\n",
      "dtypes: int64(1)\n",
      "memory usage: 65.3 KB\n"
     ]
    }
   ],
   "source": [
    "active_studs = active_studs.rename(columns={'student_id':'id'})\n",
    "active_studs.info()"
   ]
  },
  {
   "cell_type": "code",
   "execution_count": 9,
   "id": "07125fc7",
   "metadata": {},
   "outputs": [
    {
     "data": {
      "text/html": [
       "<div>\n",
       "<style scoped>\n",
       "    .dataframe tbody tr th:only-of-type {\n",
       "        vertical-align: middle;\n",
       "    }\n",
       "\n",
       "    .dataframe tbody tr th {\n",
       "        vertical-align: top;\n",
       "    }\n",
       "\n",
       "    .dataframe thead th {\n",
       "        text-align: right;\n",
       "    }\n",
       "</style>\n",
       "<table border=\"1\" class=\"dataframe\">\n",
       "  <thead>\n",
       "    <tr style=\"text-align: right;\">\n",
       "      <th></th>\n",
       "      <th>id</th>\n",
       "    </tr>\n",
       "  </thead>\n",
       "  <tbody>\n",
       "    <tr>\n",
       "      <th>0</th>\n",
       "      <td>581585</td>\n",
       "    </tr>\n",
       "    <tr>\n",
       "      <th>1</th>\n",
       "      <td>5723133</td>\n",
       "    </tr>\n",
       "    <tr>\n",
       "      <th>2</th>\n",
       "      <td>3276743</td>\n",
       "    </tr>\n",
       "    <tr>\n",
       "      <th>3</th>\n",
       "      <td>4238589</td>\n",
       "    </tr>\n",
       "    <tr>\n",
       "      <th>4</th>\n",
       "      <td>4475369</td>\n",
       "    </tr>\n",
       "  </tbody>\n",
       "</table>\n",
       "</div>"
      ],
      "text/plain": [
       "        id\n",
       "0   581585\n",
       "1  5723133\n",
       "2  3276743\n",
       "3  4238589\n",
       "4  4475369"
      ]
     },
     "execution_count": 9,
     "metadata": {},
     "output_type": "execute_result"
    }
   ],
   "source": [
    "active_studs.head()"
   ]
  },
  {
   "cell_type": "markdown",
   "id": "cd88e313",
   "metadata": {},
   "source": [
    "Какие метрики используем: <br>\n",
    "У нас есть определенный период исследования.\n",
    "Мы знаем не так и много всего: количество пользователей в тестовой группе, количество активных пользователей (пользователи которые зашли на сайт) и сумму потраченную на товар:<br>\n",
    "<br> (сократим количество метрик до двух)\n",
    "<br><b>СR в покупку</b> (отношение числа пользователей, совершивших покупку, к количеству пользователей в группе);\n",
    "<br><b>средний чек.\n"
   ]
  },
  {
   "cell_type": "markdown",
   "id": "a6d17d35",
   "metadata": {},
   "source": [
    "Для расчета первой метрики нам необходимо объединить таблицу с информацией о принадлежности пользователя к контрольной или экспериментальной группе и таблицу с информацией о пользователях, которые зашли на платформу в дни проведения эксперимента (то есть активные пользователи). А после полученную таблицу объединяем с таблицей с информацией об оплатах пользователей в дни проведения эксперимента применяя, но применяя при этом объединение left. Это нам необходимо для того, чтобы определить, какие пользователи, участвующие в эксперименте, решились оплатить."
   ]
  },
  {
   "cell_type": "code",
   "execution_count": 34,
   "id": "7a8081a4",
   "metadata": {},
   "outputs": [
    {
     "data": {
      "text/html": [
       "<div>\n",
       "<style scoped>\n",
       "    .dataframe tbody tr th:only-of-type {\n",
       "        vertical-align: middle;\n",
       "    }\n",
       "\n",
       "    .dataframe tbody tr th {\n",
       "        vertical-align: top;\n",
       "    }\n",
       "\n",
       "    .dataframe thead th {\n",
       "        text-align: right;\n",
       "    }\n",
       "</style>\n",
       "<table border=\"1\" class=\"dataframe\">\n",
       "  <thead>\n",
       "    <tr style=\"text-align: right;\">\n",
       "      <th></th>\n",
       "      <th>id</th>\n",
       "      <th>grp</th>\n",
       "      <th>rev</th>\n",
       "    </tr>\n",
       "  </thead>\n",
       "  <tbody>\n",
       "    <tr>\n",
       "      <th>0</th>\n",
       "      <td>581585</td>\n",
       "      <td>A</td>\n",
       "      <td>NaN</td>\n",
       "    </tr>\n",
       "    <tr>\n",
       "      <th>1</th>\n",
       "      <td>3276743</td>\n",
       "      <td>B</td>\n",
       "      <td>NaN</td>\n",
       "    </tr>\n",
       "    <tr>\n",
       "      <th>2</th>\n",
       "      <td>4238589</td>\n",
       "      <td>A</td>\n",
       "      <td>NaN</td>\n",
       "    </tr>\n",
       "    <tr>\n",
       "      <th>3</th>\n",
       "      <td>4475369</td>\n",
       "      <td>B</td>\n",
       "      <td>NaN</td>\n",
       "    </tr>\n",
       "    <tr>\n",
       "      <th>4</th>\n",
       "      <td>5481015</td>\n",
       "      <td>B</td>\n",
       "      <td>NaN</td>\n",
       "    </tr>\n",
       "    <tr>\n",
       "      <th>...</th>\n",
       "      <td>...</td>\n",
       "      <td>...</td>\n",
       "      <td>...</td>\n",
       "    </tr>\n",
       "    <tr>\n",
       "      <th>8323</th>\n",
       "      <td>1794344</td>\n",
       "      <td>B</td>\n",
       "      <td>NaN</td>\n",
       "    </tr>\n",
       "    <tr>\n",
       "      <th>8324</th>\n",
       "      <td>296883</td>\n",
       "      <td>B</td>\n",
       "      <td>NaN</td>\n",
       "    </tr>\n",
       "    <tr>\n",
       "      <th>8325</th>\n",
       "      <td>3598448</td>\n",
       "      <td>B</td>\n",
       "      <td>NaN</td>\n",
       "    </tr>\n",
       "    <tr>\n",
       "      <th>8326</th>\n",
       "      <td>3610547</td>\n",
       "      <td>B</td>\n",
       "      <td>290.0</td>\n",
       "    </tr>\n",
       "    <tr>\n",
       "      <th>8327</th>\n",
       "      <td>205705</td>\n",
       "      <td>B</td>\n",
       "      <td>NaN</td>\n",
       "    </tr>\n",
       "  </tbody>\n",
       "</table>\n",
       "<p>8328 rows × 3 columns</p>\n",
       "</div>"
      ],
      "text/plain": [
       "           id grp    rev\n",
       "0      581585   A    NaN\n",
       "1     3276743   B    NaN\n",
       "2     4238589   A    NaN\n",
       "3     4475369   B    NaN\n",
       "4     5481015   B    NaN\n",
       "...       ...  ..    ...\n",
       "8323  1794344   B    NaN\n",
       "8324   296883   B    NaN\n",
       "8325  3598448   B    NaN\n",
       "8326  3610547   B  290.0\n",
       "8327   205705   B    NaN\n",
       "\n",
       "[8328 rows x 3 columns]"
      ]
     },
     "execution_count": 34,
     "metadata": {},
     "output_type": "execute_result"
    }
   ],
   "source": [
    "activ_user = active_studs.merge(groups, on='id').merge(checks,how='left', on = 'id')\n",
    "activ_user"
   ]
  },
  {
   "cell_type": "code",
   "execution_count": 35,
   "id": "aabd1c39",
   "metadata": {},
   "outputs": [
    {
     "name": "stdout",
     "output_type": "stream",
     "text": [
      "Количество оплативших: 391\n",
      "Количество чеков: 541\n"
     ]
    }
   ],
   "source": [
    "print('Количество оплативших:', activ_user['rev'].count())\n",
    "print('Количество чеков:', checks['rev'].count())"
   ]
  },
  {
   "cell_type": "markdown",
   "id": "6463d21e",
   "metadata": {},
   "source": [
    "Тут у нас различие в количества чеков и количества юзеров, участвующих в эксперименте. Скорее в таблицу с чеками были добавлены юзеры, которые не участвовали в эксперементе.<br> \n",
    "Подготовка к анализу завершена. Для начала проверим СR в покупку для двух групп."
   ]
  },
  {
   "cell_type": "code",
   "execution_count": 36,
   "id": "555f5f30",
   "metadata": {},
   "outputs": [
    {
     "name": "stdout",
     "output_type": "stream",
     "text": [
      "CR группы А = 5.1 %\n",
      "CR группы B = 4.6 %\n"
     ]
    }
   ],
   "source": [
    "CR_A = round(activ_user[activ_user.grp == 'A'].rev.count()/activ_user[activ_user.grp == 'A'].grp.count()*100, 1)\n",
    "CR_B = round(activ_user[activ_user.grp == 'B'].rev.count()/activ_user[activ_user.grp == 'B'].grp.count()*100, 1)\n",
    "print('CR группы А =', CR_A,'%')\n",
    "print('CR группы B =', CR_B,'%')"
   ]
  },
  {
   "cell_type": "markdown",
   "id": "624ccfff",
   "metadata": {},
   "source": [
    "Как можно увидеть из резултатов в группе В конверия была ниже. Однако необходимо проверить значения на статистичесую значимость.\n",
    "Вдруг коневерсии не значимо различаются друг от друга.<br>\n",
    "Используем критерии Пирсона (критерий хи-квадрат), так как переменные у нас категориальные.\n",
    "- $H_0$: взаимосвязи между переменными нет \n",
    "- $H_1$: взаимосвязь есть <br>"
   ]
  },
  {
   "cell_type": "code",
   "execution_count": 37,
   "id": "ecafb9ef",
   "metadata": {},
   "outputs": [],
   "source": [
    "activ_user['ToF'] = activ_user.rev.isna()"
   ]
  },
  {
   "cell_type": "code",
   "execution_count": 38,
   "id": "a3231924",
   "metadata": {},
   "outputs": [
    {
     "data": {
      "text/html": [
       "<div>\n",
       "<style scoped>\n",
       "    .dataframe tbody tr th:only-of-type {\n",
       "        vertical-align: middle;\n",
       "    }\n",
       "\n",
       "    .dataframe tbody tr th {\n",
       "        vertical-align: top;\n",
       "    }\n",
       "\n",
       "    .dataframe thead th {\n",
       "        text-align: right;\n",
       "    }\n",
       "</style>\n",
       "<table border=\"1\" class=\"dataframe\">\n",
       "  <thead>\n",
       "    <tr style=\"text-align: right;\">\n",
       "      <th></th>\n",
       "      <th>id</th>\n",
       "      <th>grp</th>\n",
       "      <th>rev</th>\n",
       "      <th>ToF</th>\n",
       "    </tr>\n",
       "  </thead>\n",
       "  <tbody>\n",
       "    <tr>\n",
       "      <th>0</th>\n",
       "      <td>581585</td>\n",
       "      <td>A</td>\n",
       "      <td>NaN</td>\n",
       "      <td>True</td>\n",
       "    </tr>\n",
       "    <tr>\n",
       "      <th>1</th>\n",
       "      <td>3276743</td>\n",
       "      <td>B</td>\n",
       "      <td>NaN</td>\n",
       "      <td>True</td>\n",
       "    </tr>\n",
       "    <tr>\n",
       "      <th>2</th>\n",
       "      <td>4238589</td>\n",
       "      <td>A</td>\n",
       "      <td>NaN</td>\n",
       "      <td>True</td>\n",
       "    </tr>\n",
       "    <tr>\n",
       "      <th>3</th>\n",
       "      <td>4475369</td>\n",
       "      <td>B</td>\n",
       "      <td>NaN</td>\n",
       "      <td>True</td>\n",
       "    </tr>\n",
       "    <tr>\n",
       "      <th>4</th>\n",
       "      <td>5481015</td>\n",
       "      <td>B</td>\n",
       "      <td>NaN</td>\n",
       "      <td>True</td>\n",
       "    </tr>\n",
       "    <tr>\n",
       "      <th>...</th>\n",
       "      <td>...</td>\n",
       "      <td>...</td>\n",
       "      <td>...</td>\n",
       "      <td>...</td>\n",
       "    </tr>\n",
       "    <tr>\n",
       "      <th>8323</th>\n",
       "      <td>1794344</td>\n",
       "      <td>B</td>\n",
       "      <td>NaN</td>\n",
       "      <td>True</td>\n",
       "    </tr>\n",
       "    <tr>\n",
       "      <th>8324</th>\n",
       "      <td>296883</td>\n",
       "      <td>B</td>\n",
       "      <td>NaN</td>\n",
       "      <td>True</td>\n",
       "    </tr>\n",
       "    <tr>\n",
       "      <th>8325</th>\n",
       "      <td>3598448</td>\n",
       "      <td>B</td>\n",
       "      <td>NaN</td>\n",
       "      <td>True</td>\n",
       "    </tr>\n",
       "    <tr>\n",
       "      <th>8326</th>\n",
       "      <td>3610547</td>\n",
       "      <td>B</td>\n",
       "      <td>290.0</td>\n",
       "      <td>False</td>\n",
       "    </tr>\n",
       "    <tr>\n",
       "      <th>8327</th>\n",
       "      <td>205705</td>\n",
       "      <td>B</td>\n",
       "      <td>NaN</td>\n",
       "      <td>True</td>\n",
       "    </tr>\n",
       "  </tbody>\n",
       "</table>\n",
       "<p>8328 rows × 4 columns</p>\n",
       "</div>"
      ],
      "text/plain": [
       "           id grp    rev    ToF\n",
       "0      581585   A    NaN   True\n",
       "1     3276743   B    NaN   True\n",
       "2     4238589   A    NaN   True\n",
       "3     4475369   B    NaN   True\n",
       "4     5481015   B    NaN   True\n",
       "...       ...  ..    ...    ...\n",
       "8323  1794344   B    NaN   True\n",
       "8324   296883   B    NaN   True\n",
       "8325  3598448   B    NaN   True\n",
       "8326  3610547   B  290.0  False\n",
       "8327   205705   B    NaN   True\n",
       "\n",
       "[8328 rows x 4 columns]"
      ]
     },
     "execution_count": 38,
     "metadata": {},
     "output_type": "execute_result"
    }
   ],
   "source": [
    "activ_user"
   ]
  },
  {
   "cell_type": "code",
   "execution_count": 47,
   "id": "07880287",
   "metadata": {},
   "outputs": [
    {
     "name": "stdout",
     "output_type": "stream",
     "text": [
      "p-value= 0.47\n",
      "Принимаем H0\n"
     ]
    }
   ],
   "source": [
    "_,p,_,_= st.chi2_contingency(pd.crosstab(activ_user.grp, activ_user.ToF))\n",
    "\n",
    "print('p-value=', round(p,2))\n",
    "\n",
    "if p <= 0.05:\n",
    "    print('Отклоняем H0')\n",
    "else:\n",
    "    print('Принимаем H0')"
   ]
  },
  {
   "cell_type": "markdown",
   "id": "a3ab69f2",
   "metadata": {},
   "source": [
    "Из получившегося результата мы принимаем нулевую гепотезу и говорим что конверсии между двумя группами знамимых разлиций нет. "
   ]
  },
  {
   "cell_type": "markdown",
   "id": "17e84d20",
   "metadata": {},
   "source": [
    "Производим сравнение между средними чеками."
   ]
  },
  {
   "cell_type": "code",
   "execution_count": 52,
   "id": "9c43989d",
   "metadata": {},
   "outputs": [
    {
     "data": {
      "text/html": [
       "<div>\n",
       "<style scoped>\n",
       "    .dataframe tbody tr th:only-of-type {\n",
       "        vertical-align: middle;\n",
       "    }\n",
       "\n",
       "    .dataframe tbody tr th {\n",
       "        vertical-align: top;\n",
       "    }\n",
       "\n",
       "    .dataframe thead th {\n",
       "        text-align: right;\n",
       "    }\n",
       "</style>\n",
       "<table border=\"1\" class=\"dataframe\">\n",
       "  <thead>\n",
       "    <tr style=\"text-align: right;\">\n",
       "      <th></th>\n",
       "      <th>grp</th>\n",
       "      <th>rev</th>\n",
       "    </tr>\n",
       "  </thead>\n",
       "  <tbody>\n",
       "    <tr>\n",
       "      <th>0</th>\n",
       "      <td>A</td>\n",
       "      <td>933.59</td>\n",
       "    </tr>\n",
       "    <tr>\n",
       "      <th>1</th>\n",
       "      <td>B</td>\n",
       "      <td>1255.83</td>\n",
       "    </tr>\n",
       "  </tbody>\n",
       "</table>\n",
       "</div>"
      ],
      "text/plain": [
       "  grp      rev\n",
       "0   A   933.59\n",
       "1   B  1255.83"
      ]
     },
     "execution_count": 52,
     "metadata": {},
     "output_type": "execute_result"
    }
   ],
   "source": [
    "mean_table=activ_user.groupby('grp',as_index=False).rev.mean().round(2)\n",
    "mean_table"
   ]
  },
  {
   "cell_type": "code",
   "execution_count": 57,
   "id": "5ca46526",
   "metadata": {},
   "outputs": [
    {
     "name": "stdout",
     "output_type": "stream",
     "text": [
      "Разница средних 322.24\n"
     ]
    }
   ],
   "source": [
    "print('Разница средних',abs(mean_table[mean_table.grp=='A'].rev[0]-mean_table[mean_table.grp=='B'].rev[1]).round(2))"
   ]
  },
  {
   "cell_type": "markdown",
   "id": "c8544919",
   "metadata": {},
   "source": [
    "Определим значимо ли это различие или нет.<br> Для начала проверим на нормальность распределения двух групп с помощью теста Шапиро-Уилка."
   ]
  },
  {
   "cell_type": "code",
   "execution_count": 65,
   "id": "02e54a3c",
   "metadata": {},
   "outputs": [
    {
     "name": "stdout",
     "output_type": "stream",
     "text": [
      "ShapiroResult(statistic=0.7353236079216003, pvalue=1.4986822893803264e-10)\n",
      "ShapiroResult(statistic=0.8551987409591675, pvalue=1.756778758085431e-16)\n"
     ]
    }
   ],
   "source": [
    "print(st.shapiro(activ_user[activ_user.grp=='A'].dropna().rev))\n",
    "print(st.shapiro(activ_user[activ_user.grp=='B'].dropna().rev))"
   ]
  },
  {
   "cell_type": "code",
   "execution_count": 92,
   "id": "ced15607",
   "metadata": {},
   "outputs": [
    {
     "name": "stderr",
     "output_type": "stream",
     "text": [
      "C:\\Users\\User\\anaconda3\\lib\\site-packages\\seaborn\\distributions.py:2619: FutureWarning: `distplot` is a deprecated function and will be removed in a future version. Please adapt your code to use either `displot` (a figure-level function with similar flexibility) or `histplot` (an axes-level function for histograms).\n",
      "  warnings.warn(msg, FutureWarning)\n"
     ]
    },
    {
     "data": {
      "text/plain": [
       "<AxesSubplot:xlabel='rev', ylabel='Density'>"
      ]
     },
     "execution_count": 92,
     "metadata": {},
     "output_type": "execute_result"
    },
    {
     "data": {
      "image/png": "[encoded data removed]",
      "text/plain": [
       "<Figure size 720x360 with 1 Axes>"
      ]
     },
     "metadata": {
      "needs_background": "light"
     },
     "output_type": "display_data"
    }
   ],
   "source": [
    "plt.figure(figsize=[10,5])\n",
    "\n",
    "Aclear=activ_user[activ_user.grp=='A'].dropna()\n",
    "sb.distplot(Aclear.rev)"
   ]
  },
  {
   "cell_type": "code",
   "execution_count": 95,
   "id": "4f001f36",
   "metadata": {},
   "outputs": [
    {
     "name": "stderr",
     "output_type": "stream",
     "text": [
      "C:\\Users\\User\\anaconda3\\lib\\site-packages\\seaborn\\distributions.py:2619: FutureWarning: `distplot` is a deprecated function and will be removed in a future version. Please adapt your code to use either `displot` (a figure-level function with similar flexibility) or `histplot` (an axes-level function for histograms).\n",
      "  warnings.warn(msg, FutureWarning)\n"
     ]
    },
    {
     "data": {
      "text/plain": [
       "<AxesSubplot:xlabel='rev', ylabel='Density'>"
      ]
     },
     "execution_count": 95,
     "metadata": {},
     "output_type": "execute_result"
    },
    {
     "data": {
      "image/png": "[encoded data removed]",
      "text/plain": [
       "<Figure size 720x360 with 1 Axes>"
      ]
     },
     "metadata": {
      "needs_background": "light"
     },
     "output_type": "display_data"
    }
   ],
   "source": [
    "plt.figure(figsize=[10,5])\n",
    "\n",
    "Bclear=activ_user[activ_user.grp=='B'].dropna()\n",
    "sb.distplot(Bclear.rev)"
   ]
  },
  {
   "cell_type": "markdown",
   "id": "dd9ee3e0",
   "metadata": {},
   "source": [
    "Из результатов теста Шапиро-Уилка и графиков построенных выше, можно сказать что распределение значения чеков не нормальное в обеих группах."
   ]
  },
  {
   "cell_type": "markdown",
   "id": "d7e71fe5",
   "metadata": {},
   "source": [
    "Из выше сказанного => нам нужно применить критерий Манна-Уитни для сравнения средних двух групп.\n",
    "- $H_0$: Среднии двух групп одинаковые\n",
    "- $H_1$: Среднии двух групп различны <br>"
   ]
  },
  {
   "cell_type": "code",
   "execution_count": 90,
   "id": "9e49364a",
   "metadata": {},
   "outputs": [
    {
     "name": "stdout",
     "output_type": "stream",
     "text": [
      "p-value= 0.0\n",
      "Отклоняем H0\n"
     ]
    }
   ],
   "source": [
    "_,p = st.mannwhitneyu(Aclear.rev,Bclear.rev)\n",
    "\n",
    "print('p-value=', round(p,2))\n",
    "\n",
    "if p <= 0.05:\n",
    "    print('Отклоняем H0')\n",
    "else:\n",
    "    print('Принимаем H0')"
   ]
  },
  {
   "cell_type": "markdown",
   "id": "b4bd9971",
   "metadata": {},
   "source": [
    "Принимаем альтернативную гипотезу."
   ]
  },
  {
   "cell_type": "markdown",
   "id": "7bca3bf1",
   "metadata": {},
   "source": [
    "Таже для проверки равенства среднего в двух группах можно применить и бутстрап."
   ]
  },
  {
   "cell_type": "code",
   "execution_count": 144,
   "id": "2e53ae61",
   "metadata": {},
   "outputs": [
    {
     "data": {
      "image/png": "[encoded data removed]",
      "text/plain": [
       "<Figure size 1080x360 with 1 Axes>"
      ]
     },
     "metadata": {
      "needs_background": "light"
     },
     "output_type": "display_data"
    }
   ],
   "source": [
    "Return_p = Boot_v2.get_bootstrap(Aclear.rev, Bclear.rev)"
   ]
  },
  {
   "cell_type": "code",
   "execution_count": 145,
   "id": "5b913774",
   "metadata": {},
   "outputs": [
    {
     "name": "stdout",
     "output_type": "stream",
     "text": [
      "Отклоняем H0\n"
     ]
    }
   ],
   "source": [
    "if Return_p <= 0.05:\n",
    "    print('Отклоняем H0')\n",
    "else:\n",
    "    print('Принимаем H0')"
   ]
  },
  {
   "cell_type": "markdown",
   "id": "b6afe91b",
   "metadata": {},
   "source": [
    "При помощи бутстрапа мы также отклоняем нулевую гипотезу (равенство средних) и принимаем альтернативную гипотезу. "
   ]
  },
  {
   "cell_type": "markdown",
   "id": "5d1e7b51",
   "metadata": {},
   "source": [
    "Делаем вывод, что средний чек в тестовой группе значимо выше, чем в контрольной."
   ]
  },
  {
   "cell_type": "markdown",
   "id": "b7a72a5b",
   "metadata": {},
   "source": [
    "*Моя ошибка была в отклонении новой версии оплаты. <br>Проанализировав еще раз и посмотрев свежим взглядом на работу я меняю ответ на вопрос: Стоит ли запускать новую механику оплаты на всех пользователей? <br>\n",
    "Мой новый ответ: ДА! Стоит все-таки принять новую технологию оплаты. Средний чек в группе B значимо отличается (в большую сторону) от среднего чека в Группе А.\n"
   ]
  }
 ],
 "metadata": {
  "kernelspec": {
   "display_name": "Python 3 (ipykernel)",
   "language": "python",
   "name": "python3"
  },
  "language_info": {
   "codemirror_mode": {
    "name": "ipython",
    "version": 3
   },
   "file_extension": ".py",
   "mimetype": "text/x-python",
   "name": "python",
   "nbconvert_exporter": "python",
   "pygments_lexer": "ipython3",
   "version": "3.9.12"
  }
 },
 "nbformat": 4,
 "nbformat_minor": 5
}
