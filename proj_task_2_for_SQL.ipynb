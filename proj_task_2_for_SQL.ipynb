{
 "cells": [
  {
   "cell_type": "code",
   "execution_count": 1,
   "metadata": {},
   "outputs": [],
   "source": [
    "import pandas as pd\n",
    "import pandahouse as ph"
   ]
  },
  {
   "cell_type": "code",
   "execution_count": 6,
   "metadata": {},
   "outputs": [],
   "source": [
    "# Объявляем параметры подключения к clickhouse\n",
    "connection = dict(database='default',\n",
    "                  host='http://clickhouse.beslan.pro:8080',\n",
    "                  user='student',\n",
    "                  password='dpo_python_2020')"
   ]
  },
  {
   "cell_type": "markdown",
   "metadata": {},
   "source": [
    "<h2>2.1 Выявить, сколько усердных учеников есть на платформе.</h2><br>\n",
    "Назовём очень усердным учеником того пользователя, который хотя бы раз за текущий месяц правильно решил 20 горошин.<br>\n",
    "Горошиной называется меленькое задание.<br>"
   ]
  },
  {
   "cell_type": "code",
   "execution_count": 32,
   "metadata": {},
   "outputs": [],
   "source": [
    "# запрос \n",
    "que = \"\"\"\n",
    "SELECT\n",
    "  count(st_id) as Count_var\n",
    "from\n",
    "  (\n",
    "    SELECT\n",
    "      st_id,\n",
    "      MONTH(timest) as mon,\n",
    "      YEAR(timest) as yer,\n",
    "      sum(correct) as sum_corr\n",
    "    FROM\n",
    "      peas\n",
    "    WHERE\n",
    "      mon = 3\n",
    "      and yer = 2020\n",
    "    GROUP BY\n",
    "      st_id,\n",
    "      mon,\n",
    "      yer\n",
    "    order by\n",
    "      sum_corr DESC\n",
    "  )\n",
    "where\n",
    "  sum_corr >= 20\n",
    "\"\"\""
   ]
  },
  {
   "cell_type": "code",
   "execution_count": 33,
   "metadata": {},
   "outputs": [
    {
     "name": "stdout",
     "output_type": "stream",
     "text": [
      "Колличество решивших свыше 20 горошен = 0 .\n"
     ]
    }
   ],
   "source": [
    "que_answer21 = ph.read_clickhouse(query=que, connection=connection)\n",
    "print ('Колличество решивших свыше 20 горошен =', que_answer21['Count_var'][0],'.')"
   ]
  },
  {
   "cell_type": "markdown",
   "metadata": {},
   "source": [
    "Кажется на платформе никто не усердный. Увы..."
   ]
  },
  {
   "cell_type": "markdown",
   "metadata": {},
   "source": [
    "<h2>2.2 Необходимо в одном запросе выгрузить следующую информацию о группах пользователей:</h2><br>\n",
    "<br>\n",
    "*ARPU <br>\n",
    "*ARPAU <br>\n",
    "*CR в покупку <br>\n",
    "*СR активного пользователя в покупку <br>\n",
    "*CR пользователя из активности по математике (subject = ’math’) в покупку курса по математике"
   ]
  },
  {
   "cell_type": "markdown",
   "metadata": {},
   "source": [
    "Есть маленькие притензии к этому заданию.<br>\n",
    "1. St_id – не является типом int, а скорее имеет тип данных string<br>\n",
    "2. Такое ощущение что метка ученика участвующего в тесте создавалась когда человек заходил выполнял новую горошину.<br>\n",
    "*200 значений в studs<br>\n",
    "*200 final<br>\n",
    "*200 значений peas<br>\n",
    "Похожи ли st_id в каждой строке? Как мы видим да.<br>"
   ]
  },
  {
   "cell_type": "code",
   "execution_count": 34,
   "metadata": {},
   "outputs": [
    {
     "name": "stdout",
     "output_type": "stream",
     "text": [
      "200 200\n"
     ]
    }
   ],
   "source": [
    "que = \"\"\"\n",
    "SELECT *\n",
    "FROM studs\n",
    "\"\"\"\n",
    "que_answer1 = ph.read_clickhouse(query=que, connection=connection)\n",
    "que_answer1\n",
    "\n",
    "que = \"\"\"\n",
    "SELECT st_id\n",
    "FROM peas\n",
    "\"\"\"\n",
    "que_answer2 = ph.read_clickhouse(query=que, connection=connection)\n",
    "\n",
    "que = \"\"\"\n",
    "SELECT st_id\n",
    "FROM final_project_check\n",
    "\"\"\"\n",
    "\n",
    "que_answer3 = ph.read_clickhouse(query=que, connection=connection)\n",
    "\n",
    "sch=0\n",
    "for i in range(que_answer1.shape[0]):\n",
    "    if que_answer1.st_id[i] == que_answer2.st_id[i] and que_answer1.st_id[i] == que_answer3.st_id[i]:\n",
    "        sch=sch+1\n",
    "        continue\n",
    "print (sch, que_answer1.shape[0])"
   ]
  },
  {
   "cell_type": "code",
   "execution_count": 35,
   "metadata": {},
   "outputs": [
    {
     "data": {
      "text/html": [
       "<div>\n",
       "<style scoped>\n",
       "    .dataframe tbody tr th:only-of-type {\n",
       "        vertical-align: middle;\n",
       "    }\n",
       "\n",
       "    .dataframe tbody tr th {\n",
       "        vertical-align: top;\n",
       "    }\n",
       "\n",
       "    .dataframe thead th {\n",
       "        text-align: right;\n",
       "    }\n",
       "</style>\n",
       "<table border=\"1\" class=\"dataframe\">\n",
       "  <thead>\n",
       "    <tr style=\"text-align: right;\">\n",
       "      <th></th>\n",
       "      <th>test_grp</th>\n",
       "      <th>ARPU</th>\n",
       "      <th>ARPAU</th>\n",
       "      <th>CR1</th>\n",
       "      <th>CR2</th>\n",
       "      <th>CR3</th>\n",
       "    </tr>\n",
       "  </thead>\n",
       "  <tbody>\n",
       "    <tr>\n",
       "      <th>0</th>\n",
       "      <td>new</td>\n",
       "      <td>3.832586e+06</td>\n",
       "      <td>3.832586e+06</td>\n",
       "      <td>100.0</td>\n",
       "      <td>100.0</td>\n",
       "      <td>100.0</td>\n",
       "    </tr>\n",
       "    <tr>\n",
       "      <th>1</th>\n",
       "      <td>old</td>\n",
       "      <td>4.471207e+06</td>\n",
       "      <td>4.471207e+06</td>\n",
       "      <td>100.0</td>\n",
       "      <td>100.0</td>\n",
       "      <td>100.0</td>\n",
       "    </tr>\n",
       "  </tbody>\n",
       "</table>\n",
       "</div>"
      ],
      "text/plain": [
       "  test_grp          ARPU         ARPAU    CR1    CR2    CR3\n",
       "0      new  3.832586e+06  3.832586e+06  100.0  100.0  100.0\n",
       "1      old  4.471207e+06  4.471207e+06  100.0  100.0  100.0"
      ]
     },
     "execution_count": 35,
     "metadata": {},
     "output_type": "execute_result"
    }
   ],
   "source": [
    "que= \"\"\"\n",
    "select\n",
    "  test_grp,\n",
    "  sum(default.final_project_check.money) / count(DISTINCT default.studs.st_id) as ARPU,\n",
    "  sum(default.final_project_check.money) / count(DISTINCT default.peas.st_id) as ARPAU,\n",
    "  count(DISTINCT default.final_project_check.st_id) / count(DISTINCT default.studs.st_id)*100 as CR1,\n",
    "  count(DISTINCT default.final_project_check.st_id) / count(DISTINCT default.peas.st_id)*100 as CR2,\n",
    "  count(math.math_studs) / count(math.math_money)*100 as CR3\n",
    "from\n",
    "  default.studs as stud\n",
    "  left join default.peas as pe on stud.st_id = pe.st_id\n",
    "  left join default.final_project_check as chek ON stud.st_id = chek.st_id\n",
    "  left join (\n",
    "    select\n",
    "      DISTINCT default.peas.st_id as math_studs,\n",
    "      default.peas.subject as subject,\n",
    "      default.final_project_check.st_id as math_money\n",
    "    from\n",
    "      default.peas\n",
    "      left join default.final_project_check on math_studs = math_money\n",
    "    where\n",
    "      subject = 'math'\n",
    "  ) as math on default.peas.st_id = math.math_money\n",
    "group by\n",
    "  test_grp\n",
    "\"\"\"\n",
    "\n",
    "que_answer22 = ph.read_clickhouse(query=que, connection=connection)\n",
    "que_answer22"
   ]
  },
  {
   "cell_type": "markdown",
   "metadata": {},
   "source": [
    "где:<br>\n",
    "CR1 - CR в покупку <br>\n",
    "CR2 - СR активного пользователя в покупку <br>\n",
    "CR3 - CR пользователя из активности по математике (subject = ’math’) в покупку курса по математике"
   ]
  },
  {
   "cell_type": "markdown",
   "metadata": {},
   "source": [
    "Извените за мою придирчивость %) <br>\n",
    "Решил изменить спомощью запросов таблички, для интереса. (уменьшил колличество покупок с пользователя)"
   ]
  },
  {
   "cell_type": "code",
   "execution_count": 37,
   "metadata": {},
   "outputs": [
    {
     "data": {
      "text/html": [
       "<div>\n",
       "<style scoped>\n",
       "    .dataframe tbody tr th:only-of-type {\n",
       "        vertical-align: middle;\n",
       "    }\n",
       "\n",
       "    .dataframe tbody tr th {\n",
       "        vertical-align: top;\n",
       "    }\n",
       "\n",
       "    .dataframe thead th {\n",
       "        text-align: right;\n",
       "    }\n",
       "</style>\n",
       "<table border=\"1\" class=\"dataframe\">\n",
       "  <thead>\n",
       "    <tr style=\"text-align: right;\">\n",
       "      <th></th>\n",
       "      <th>grp</th>\n",
       "      <th>ARPU</th>\n",
       "      <th>ARPAU</th>\n",
       "      <th>CR1</th>\n",
       "      <th>CR2</th>\n",
       "      <th>CR3</th>\n",
       "    </tr>\n",
       "  </thead>\n",
       "  <tbody>\n",
       "    <tr>\n",
       "      <th>0</th>\n",
       "      <td>new</td>\n",
       "      <td>49687.500000</td>\n",
       "      <td>49687.500000</td>\n",
       "      <td>100.0</td>\n",
       "      <td>100.0</td>\n",
       "      <td>72.727273</td>\n",
       "    </tr>\n",
       "    <tr>\n",
       "      <th>1</th>\n",
       "      <td>old</td>\n",
       "      <td>51071.428571</td>\n",
       "      <td>51071.428571</td>\n",
       "      <td>100.0</td>\n",
       "      <td>100.0</td>\n",
       "      <td>50.000000</td>\n",
       "    </tr>\n",
       "  </tbody>\n",
       "</table>\n",
       "</div>"
      ],
      "text/plain": [
       "   grp          ARPU         ARPAU    CR1    CR2        CR3\n",
       "0  new  49687.500000  49687.500000  100.0  100.0  72.727273\n",
       "1  old  51071.428571  51071.428571  100.0  100.0  50.000000"
      ]
     },
     "execution_count": 37,
     "metadata": {},
     "output_type": "execute_result"
    }
   ],
   "source": [
    "que= \"\"\"\n",
    "select\n",
    "  grp,\n",
    "  sum(money) / count(grp) ARPU,\n",
    "  sum(money) / sum(if(count_active > 0, 1, 0)) as ARPAU,\n",
    "  sum(if(count_buy > 0, 1, 0)) / count(grp) * 100 AS CR1,\n",
    "  sum(if(count_buy > 0, 1, 0)) / sum(if(count_active > 0, 1, 0)) * 100 AS CR2,\n",
    "  sum(if(buyM > 0, 1, 0)) / sum(if(actM > 0, 1, 0)) * 100 AS CR3\n",
    "from(\n",
    "    select\n",
    "      b.st_id as id,\n",
    "      a.num_row as grp,\n",
    "      b.count_buy as count_buy,\n",
    "      b.s_money as money,\n",
    "      d.count_active as count_active,\n",
    "      b.Math as buyM,\n",
    "      d.Math as actM\n",
    "    from(\n",
    "        select\n",
    "          if(\n",
    "            num_row <(\n",
    "              select\n",
    "                uniqExact(st_id)\n",
    "              from\n",
    "                default.studs\n",
    "            ) / 2,\n",
    "            'old',\n",
    "            'new'\n",
    "          ) as num_row,\n",
    "          st_id\n",
    "        from(\n",
    "            select\n",
    "              ROW_NUMBER() OVER() as num_row,\n",
    "              st_id\n",
    "            from\n",
    "              (\n",
    "                select\n",
    "                  distinct st_id\n",
    "                from\n",
    "                  default.studs\n",
    "              )\n",
    "          )\n",
    "      ) as a\n",
    "      right join (\n",
    "        select\n",
    "          st_id,\n",
    "          groupArray(DISTINCT subject) as subject_active,\n",
    "          count(subject) as count_buy,\n",
    "          sum(money) as s_money,\n",
    "          sum(if (subject = 'Math', 1, 0)) as Math\n",
    "        from(\n",
    "            select\n",
    "              *\n",
    "            from(\n",
    "                SELECT\n",
    "                  ROW_NUMBER() OVER(PARTITION BY st_id) as row_num,\n",
    "                  *\n",
    "                from\n",
    "                  default.final_project_check\n",
    "              )\n",
    "            WHERE\n",
    "              row_num < 11 / 3\n",
    "          )\n",
    "        group by\n",
    "          st_id\n",
    "      ) as b on a.st_id = b.st_id\n",
    "      right join (\n",
    "        SELECT\n",
    "          *\n",
    "        from(\n",
    "            SELECT\n",
    "              st_id,\n",
    "              groupArray(DISTINCT subject) as subj_buy,\n",
    "              sum(if (subject = 'Math', 1, 0)) as Math,\n",
    "              count(subject) as count_active\n",
    "            from\n",
    "              default.peas\n",
    "            group by\n",
    "              st_id\n",
    "          )\n",
    "      ) as d on a.st_id = d.st_id\n",
    "  )\n",
    "group by\n",
    "  grp\n",
    "\"\"\"\n",
    "\n",
    "que_answer22n = ph.read_clickhouse(query=que, connection=connection)\n",
    "que_answer22n"
   ]
  },
  {
   "cell_type": "markdown",
   "metadata": {},
   "source": [
    "Ну чтож, поменял я CR3 но уже что то :)"
   ]
  }
 ],
 "metadata": {
  "kernelspec": {
   "display_name": "Python 3",
   "language": "python",
   "name": "python3"
  },
  "language_info": {
   "codemirror_mode": {
    "name": "ipython",
    "version": 3
   },
   "file_extension": ".py",
   "mimetype": "text/x-python",
   "name": "python",
   "nbconvert_exporter": "python",
   "pygments_lexer": "ipython3",
   "version": "3.7.3"
  }
 },
 "nbformat": 4,
 "nbformat_minor": 4
}
